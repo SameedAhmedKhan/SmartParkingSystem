{
  "nbformat": 4,
  "nbformat_minor": 0,
  "metadata": {
    "colab": {
      "name": "PathToParkingSlot.ipynb",
      "provenance": [],
      "collapsed_sections": []
    },
    "kernelspec": {
      "name": "python3",
      "display_name": "Python 3"
    }
  },
  "cells": [
    {
      "cell_type": "code",
      "metadata": {
        "id": "TVdY4x-Zi9Db",
        "colab_type": "code",
        "outputId": "7f5c60d9-a1a6-4a32-bb3e-b5e682f986ca",
        "colab": {
          "base_uri": "https://localhost:8080/",
          "height": 303
        }
      },
      "source": [
        "from __future__ import print_function\n",
        "import matplotlib.pyplot as plt\n",
        " \n",
        "class AStarGraph(object):\n",
        "\t#Define a class board like grid with two barriers\n",
        " \n",
        "\tdef __init__(self):\n",
        "\t\tself.barriers = []\n",
        "\t\tself.barriers.append([(2,4),(2,5),(2,6),(3,6),(4,6),(5,6),(5,5),(5,4),(5,3),(5,2),(4,2),(3,2)])\n",
        " \n",
        "\tdef heuristic(self, start, goal):\n",
        "\t\t#Use Chebyshev distance heuristic if we can move one square either\n",
        "\t\t#adjacent or diagonal\n",
        "\t\tD = 1\n",
        "\t\tD2 = 1\n",
        "\t\tdx = abs(start[0] - goal[0])\n",
        "\t\tdy = abs(start[1] - goal[1])\n",
        "\t\treturn D * (dx + dy) + (D2 - 2 * D) * min(dx, dy)\n",
        " \n",
        "\tdef get_vertex_neighbours(self, pos):\n",
        "\t\tn = []\n",
        "\t\t#Moves allow link a chess king\n",
        "\t\tfor dx, dy in [(1,0),(-1,0),(0,1),(0,-1),(1,1),(-1,1),(1,-1),(-1,-1)]:\n",
        "\t\t\tx2 = pos[0] + dx\n",
        "\t\t\ty2 = pos[1] + dy\n",
        "\t\t\tif x2 < 0 or x2 > 7 or y2 < 0 or y2 > 7:\n",
        "\t\t\t\tcontinue\n",
        "\t\t\tn.append((x2, y2))\n",
        "\t\treturn n\n",
        " \n",
        "\tdef move_cost(self, a, b):\n",
        "\t\tfor barrier in self.barriers:\n",
        "\t\t\tif b in barrier:\n",
        "\t\t\t\treturn 100 #Extremely high cost to enter barrier squares\n",
        "\t\treturn 1 #Normal movement cost\n",
        " \n",
        "\n",
        "\n",
        "def AStarSearch(start, end, graph):\n",
        " \n",
        "\tG = {} #Actual movement cost to each position from the start position\n",
        "\tF = {} #Estimated movement cost of start to end going via this position\n",
        " \n",
        "\t#Initialize starting values\n",
        "\tG[start] = 0 \n",
        "\tF[start] = graph.heuristic(start, end)\n",
        " \n",
        "\tclosedVertices = set()\n",
        "\topenVertices = set([start])\n",
        "\tcameFrom = {}\n",
        " \n",
        "\twhile len(openVertices) > 0:\n",
        "\t\t#Get the vertex in the open list with the lowest F score\n",
        "\t\tcurrent = None\n",
        "\t\tcurrentFscore = None\n",
        "\t\tfor pos in openVertices:\n",
        "\t\t\tif current is None or F[pos] < currentFscore:\n",
        "\t\t\t\tcurrentFscore = F[pos]\n",
        "\t\t\t\tcurrent = pos\n",
        " \n",
        "\t\t#Check if we have reached the goal\n",
        "\t\tif current == end:\n",
        "\t\t\t#Retrace our route backward\n",
        "\t\t\tpath = [current]\n",
        "\t\t\twhile current in cameFrom:\n",
        "\t\t\t\tcurrent = cameFrom[current]\n",
        "\t\t\t\tpath.append(current)\n",
        "\t\t\tpath.reverse()\n",
        "\t\t\treturn path, F[end] #Done!\n",
        " \n",
        "\t\t#Mark the current vertex as closed\n",
        "\t\topenVertices.remove(current)\n",
        "\t\tclosedVertices.add(current)\n",
        " \n",
        "\t\t#Update scores for vertices near the current position\n",
        "\t\tfor neighbour in graph.get_vertex_neighbours(current):\n",
        "\t\t\tif neighbour in closedVertices: \n",
        "\t\t\t\tcontinue #We have already processed this node exhaustively\n",
        "\t\t\tcandidateG = G[current] + graph.move_cost(current, neighbour)\n",
        " \n",
        "\t\t\tif neighbour not in openVertices:\n",
        "\t\t\t\topenVertices.add(neighbour) #Discovered a new vertex\n",
        "\t\t\telif candidateG >= G[neighbour]:\n",
        "\t\t\t\tcontinue #This G score is worse than previously found\n",
        " \n",
        "\t\t\t#Adopt this G score\n",
        "\t\t\tcameFrom[neighbour] = current   \n",
        "\t\t\tG[neighbour] = candidateG\n",
        "\t\t\tH = graph.heuristic(neighbour, end)\n",
        "\t\t\tF[neighbour] = G[neighbour] + H\n",
        " \n",
        "\traise RuntimeError(\"A* failed to find a solution\")\n",
        " \n",
        "if __name__==\"__main__\":\n",
        "\tgraph = AStarGraph()\n",
        "\tresult, cost = AStarSearch((0,0), (7,4), graph)\n",
        "\tprint (\"route\", result)\n",
        "\tprint (\"cost\", cost)\n",
        "\tplt.plot([v[0] for v in result], [v[1] for v in result])\n",
        "\tfor barrier in graph.barriers:\n",
        "\t\tplt.plot([v[0] for v in barrier], [v[1] for v in barrier])\n",
        "\tplt.xlim(-1,8)\n",
        "\tplt.ylim(-1,8)\n",
        "\tplt.show()"
      ],
      "execution_count": 0,
      "outputs": [
        {
          "output_type": "stream",
          "text": [
            "route [(0, 0), (1, 0), (2, 0), (3, 0), (4, 1), (5, 1), (6, 2), (7, 3), (7, 4)]\n",
            "cost 8\n"
          ],
          "name": "stdout"
        },
        {
          "output_type": "display_data",
          "data": {
            "image/png": "[encoded data removed]",
            "text/plain": [
              "<Figure size 432x288 with 1 Axes>"
            ]
          },
          "metadata": {
            "tags": [],
            "needs_background": "light"
          }
        }
      ]
    }
  ]
}